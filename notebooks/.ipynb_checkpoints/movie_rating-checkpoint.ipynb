{
 "cells": [
  {
   "cell_type": "markdown",
   "id": "inside-instrumentation",
   "metadata": {},
   "source": [
    "# Movie Rating System\n",
    "\n",
    "## Problem Context\n",
    "\n",
    "\n",
    "## Problem Statement\n",
    "\n",
    "\n",
    "## Data gathering\n",
    "\n",
    "\n",
    "### Scrapping data"
   ]
  },
  {
   "cell_type": "code",
   "execution_count": 1,
   "id": "becoming-factory",
   "metadata": {},
   "outputs": [],
   "source": [
    "#import scrapping libraries"
   ]
  },
  {
   "cell_type": "code",
   "execution_count": null,
   "id": "private-relief",
   "metadata": {},
   "outputs": [],
   "source": []
  },
  {
   "cell_type": "markdown",
   "id": "enclosed-medline",
   "metadata": {},
   "source": [
    "## Data Ingestion"
   ]
  },
  {
   "cell_type": "code",
   "execution_count": null,
   "id": "piano-powder",
   "metadata": {},
   "outputs": [],
   "source": []
  },
  {
   "cell_type": "code",
   "execution_count": null,
   "id": "balanced-calibration",
   "metadata": {},
   "outputs": [],
   "source": []
  },
  {
   "cell_type": "markdown",
   "id": "floppy-sellers",
   "metadata": {},
   "source": [
    "## Data Cleaning and Data Storage"
   ]
  },
  {
   "cell_type": "code",
   "execution_count": null,
   "id": "confused-malawi",
   "metadata": {},
   "outputs": [],
   "source": []
  },
  {
   "cell_type": "code",
   "execution_count": null,
   "id": "secret-telephone",
   "metadata": {},
   "outputs": [],
   "source": []
  },
  {
   "cell_type": "markdown",
   "id": "outside-coffee",
   "metadata": {},
   "source": [
    "## Exploratory Data Analysis (EDA)"
   ]
  },
  {
   "cell_type": "code",
   "execution_count": null,
   "id": "consistent-bristol",
   "metadata": {},
   "outputs": [],
   "source": []
  },
  {
   "cell_type": "code",
   "execution_count": null,
   "id": "driving-handling",
   "metadata": {},
   "outputs": [],
   "source": []
  },
  {
   "cell_type": "markdown",
   "id": "southwest-observer",
   "metadata": {},
   "source": [
    "## Machine Learning (ML)\n",
    "\n",
    "### Model Building"
   ]
  },
  {
   "cell_type": "code",
   "execution_count": null,
   "id": "color-edward",
   "metadata": {},
   "outputs": [],
   "source": []
  },
  {
   "cell_type": "code",
   "execution_count": null,
   "id": "reasonable-improvement",
   "metadata": {},
   "outputs": [],
   "source": []
  },
  {
   "cell_type": "markdown",
   "id": "optimum-withdrawal",
   "metadata": {},
   "source": [
    "### Model Evaluation"
   ]
  },
  {
   "cell_type": "code",
   "execution_count": null,
   "id": "indonesian-actor",
   "metadata": {},
   "outputs": [],
   "source": []
  },
  {
   "cell_type": "markdown",
   "id": "unusual-locking",
   "metadata": {},
   "source": [
    "### Model saving"
   ]
  },
  {
   "cell_type": "code",
   "execution_count": null,
   "id": "involved-hearing",
   "metadata": {},
   "outputs": [],
   "source": []
  },
  {
   "cell_type": "code",
   "execution_count": null,
   "id": "announced-leeds",
   "metadata": {},
   "outputs": [],
   "source": []
  },
  {
   "cell_type": "markdown",
   "id": "daily-traveler",
   "metadata": {},
   "source": [
    "## Deploy\n",
    "\n",
    "Let's move to python scripts and build the streamlit app"
   ]
  },
  {
   "cell_type": "code",
   "execution_count": null,
   "id": "inner-apparatus",
   "metadata": {},
   "outputs": [],
   "source": []
  }
 ],
 "metadata": {
  "kernelspec": {
   "display_name": "Python 3",
   "language": "python",
   "name": "python3"
  },
  "language_info": {
   "codemirror_mode": {
    "name": "ipython",
    "version": 3
   },
   "file_extension": ".py",
   "mimetype": "text/x-python",
   "name": "python",
   "nbconvert_exporter": "python",
   "pygments_lexer": "ipython3",
   "version": "3.9.5"
  }
 },
 "nbformat": 4,
 "nbformat_minor": 5
}
